{
 "cells": [
  {
   "cell_type": "code",
   "execution_count": 1,
   "metadata": {
    "collapsed": true
   },
   "outputs": [],
   "source": [
    "import numpy as np\n",
    "import pandas as pd"
   ]
  },
  {
   "cell_type": "code",
   "execution_count": 2,
   "metadata": {
    "collapsed": true
   },
   "outputs": [],
   "source": [
    "train_data = pd.read_csv('/users/Anurag/desktop/car_train.csv',delimiter = ',')\n",
    "test_data = pd.read_csv('/users/Anurag/desktop/car_test.csv',delimiter = ',')"
   ]
  },
  {
   "cell_type": "code",
   "execution_count": 3,
   "metadata": {
    "collapsed": true
   },
   "outputs": [],
   "source": [
    "train_data.drop('nrOfPictures',axis=1,inplace=True)\n",
    "test_data.drop('nrOfPictures',axis=1,inplace=True)\n",
    "\n",
    "train_data.drop('vehicleType',axis=1,inplace=True)\n",
    "test_data.drop('vehicleType',axis=1,inplace=True)\n",
    "\n",
    "train_data.drop('dateCrawled',axis=1,inplace=True)\n",
    "train_data.drop('name',axis=1,inplace=True)\n",
    "\n",
    "test_data.drop('dateCrawled',axis=1,inplace=True)\n",
    "test_data.drop('name',axis=1,inplace=True)\n",
    "\n",
    "train_data.drop('offerType',axis=1,inplace=True)\n",
    "test_data.drop('offerType',axis=1,inplace=True)\n",
    "\n",
    "train_data.drop('model',axis=1,inplace=True)\n",
    "test_data.drop('model',axis=1,inplace=True)\n",
    "\n",
    "train_data.drop('postalCode',axis=1,inplace=True)\n",
    "test_data.drop('postalCode',axis=1,inplace=True)\n",
    "\n",
    "train_data.drop('seller',axis=1,inplace=True)\n",
    "test_data.drop('seller',axis=1,inplace=True)\n",
    "\n",
    "\n",
    "train_data.drop('brand',axis=1,inplace=True)\n",
    "test_data.drop('brand',axis=1,inplace=True)"
   ]
  },
  {
   "cell_type": "code",
   "execution_count": 4,
   "metadata": {
    "collapsed": true
   },
   "outputs": [],
   "source": [
    "def gearbox(str):\n",
    "    if str == \"manuell\":\n",
    "        return 0\n",
    "    else:\n",
    "        return 1\n",
    "train_data['gearbox'] = train_data['gearbox'].apply(gearbox)\n",
    "test_data['gearbox'] = test_data['gearbox'].apply(gearbox)"
   ]
  },
  {
   "cell_type": "code",
   "execution_count": 5,
   "metadata": {
    "collapsed": true
   },
   "outputs": [],
   "source": [
    "def abtest(str):\n",
    "    if str == \"control\":\n",
    "        return 1\n",
    "    else:\n",
    "        return 0\n",
    "    \n",
    "train_data['abtest'] = train_data['abtest'].apply(abtest)\n",
    "test_data['abtest'] = test_data['abtest'].apply(abtest)"
   ]
  },
  {
   "cell_type": "code",
   "execution_count": 6,
   "metadata": {
    "collapsed": true
   },
   "outputs": [],
   "source": [
    "def fueltype(str):\n",
    "    if str == \"diesel\":\n",
    "        return 1\n",
    "    elif str == \"benzin\":\n",
    "        return 2\n",
    "    else:\n",
    "        return 0\n",
    "    \n",
    "train_data['fuelType'] = train_data['fuelType'].apply(fueltype)\n",
    "test_data['fuelType'] = test_data['fuelType'].apply(fueltype)"
   ]
  },
  {
   "cell_type": "code",
   "execution_count": 7,
   "metadata": {
    "collapsed": true
   },
   "outputs": [],
   "source": [
    "def notRepaired(str):\n",
    "    if str == \"nein\":\n",
    "        return 1\n",
    "    elif str == \"ja\":\n",
    "        return 2\n",
    "    else:\n",
    "        return 0\n",
    "    \n",
    "train_data['notRepairedDamage'] = train_data['notRepairedDamage'].apply(notRepaired)\n",
    "test_data['notRepairedDamage'] = test_data['notRepairedDamage'].apply(notRepaired)"
   ]
  },
  {
   "cell_type": "code",
   "execution_count": 8,
   "metadata": {
    "collapsed": true
   },
   "outputs": [],
   "source": [
    "Age = 2016 - train_data['yearOfRegistration']\n",
    "Age_test = 2016 - test_data['yearOfRegistration']\n",
    "train_data.insert(loc=7, column='Age', value=Age)\n",
    "test_data.insert(loc=7, column='Age', value=Age_test)"
   ]
  },
  {
   "cell_type": "code",
   "execution_count": 9,
   "metadata": {
    "collapsed": true
   },
   "outputs": [],
   "source": [
    "train_data.drop('yearOfRegistration',axis=1,inplace=True)\n",
    "train_data.drop('dateCreated',axis=1,inplace=True)\n",
    "train_data.drop('lastSeen',axis=1,inplace=True)\n",
    "\n",
    "test_data.drop('yearOfRegistration',axis=1,inplace=True)\n",
    "test_data.drop('dateCreated',axis=1,inplace=True)\n",
    "test_data.drop('lastSeen',axis=1,inplace=True)"
   ]
  },
  {
   "cell_type": "code",
   "execution_count": 10,
   "metadata": {
    "collapsed": true
   },
   "outputs": [],
   "source": [
    "train_data = train_data.fillna(train_data.mean())\n",
    "test_data = test_data.fillna(test_data.mean())"
   ]
  },
  {
   "cell_type": "code",
   "execution_count": 11,
   "metadata": {
    "collapsed": true
   },
   "outputs": [],
   "source": [
    "x_train_data = train_data.iloc[:,0:8]\n",
    "y_train_data = train_data.iloc[:,8:9]"
   ]
  },
  {
   "cell_type": "code",
   "execution_count": 12,
   "metadata": {
    "collapsed": true
   },
   "outputs": [],
   "source": [
    "from sklearn.linear_model import SGDRegressor\n",
    "from sklearn.model_selection import GridSearchCV\n",
    "from sklearn.model_selection import KFold\n",
    "from sklearn.metrics import classification_report , confusion_matrix"
   ]
  },
  {
   "cell_type": "code",
   "execution_count": 13,
   "metadata": {},
   "outputs": [
    {
     "name": "stderr",
     "output_type": "stream",
     "text": [
      "/Users/Anurag/anaconda3/lib/python3.6/site-packages/ipykernel_launcher.py:5: DataConversionWarning: A column-vector y was passed when a 1d array was expected. Please change the shape of y to (n_samples,), for example using ravel().\n",
      "  \"\"\"\n"
     ]
    }
   ],
   "source": [
    "from sklearn.ensemble import RandomForestRegressor\n",
    "\n",
    "clf_rf = RandomForestRegressor()\n",
    "\n",
    "clf_rf.fit(x_train_data,y_train_data)\n",
    "y_pred = clf_rf.predict(test_data)\n",
    "df = pd.DataFrame(y_pred)"
   ]
  },
  {
   "cell_type": "code",
   "execution_count": 14,
   "metadata": {},
   "outputs": [],
   "source": [
    "df.to_csv('car_result.csv', sep='\\t', encoding='utf-8')"
   ]
  }
 ],
 "metadata": {
  "kernelspec": {
   "display_name": "Python 3",
   "language": "python",
   "name": "python3"
  },
  "language_info": {
   "codemirror_mode": {
    "name": "ipython",
    "version": 3
   },
   "file_extension": ".py",
   "mimetype": "text/x-python",
   "name": "python",
   "nbconvert_exporter": "python",
   "pygments_lexer": "ipython3",
   "version": "3.6.3"
  }
 },
 "nbformat": 4,
 "nbformat_minor": 2
}
